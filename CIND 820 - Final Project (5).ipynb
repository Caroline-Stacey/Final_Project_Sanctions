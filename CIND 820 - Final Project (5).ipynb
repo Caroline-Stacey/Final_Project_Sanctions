{
 "cells": [
  {
   "cell_type": "code",
   "execution_count": null,
   "id": "7eadea2a",
   "metadata": {},
   "outputs": [],
   "source": [
    "import pandas as pd\n",
    "import numpy as np\n",
    "import matplotlib.pyplot as plt\n",
    "pd.options.mode.chained_assignment = None  # default='warn'\n",
    "from sklearn import preprocessing\n",
    "from sklearn.preprocessing import StandardScaler\n",
    "from sklearn.preprocessing import minmax_scale\n",
    "from sklearn.model_selection import cross_val_score,KFold\n",
    "from sklearn.linear_model import LogisticRegression\n",
    "from sklearn.linear_model import LinearRegression\n",
    "from sklearn.model_selection import cross_val_score, cross_val_predict\n",
    "from sklearn import metrics\n",
    "from sklearn.pipeline import Pipeline\n",
    "from sklearn.impute import SimpleImputer\n",
    "from sklearn import model_selection\n",
    "from sklearn.model_selection import train_test_split\n",
    "from sklearn.model_selection import cross_val_score\n",
    "from sklearn.tree import DecisionTreeClassifier\n",
    "from sklearn.pipeline import make_pipeline\n",
    "from sklearn.svm import SVC\n",
    "from sklearn import tree\n",
    "from sklearn.ensemble import RandomForestClassifier\n",
    "from sklearn.metrics import confusion_matrix\n",
    "from sklearn.metrics import accuracy_score\n",
    "from sklearn.model_selection import StratifiedKFold\n",
    "from sklearn import datasets\n",
    "from sklearn import svm\n",
    "import scipy.stats as stats\n",
    "import statistics\n",
    "import seaborn as sn\n",
    "import matplotlib.pyplot as plt\n",
    "from sklearn.naive_bayes import GaussianNB\n",
    "\n",
    "\n",
    "pd.set_option('display.max_rows', 300)\n",
    "pd.set_option('display.max_columns', None)"
   ]
  },
  {
   "cell_type": "code",
   "execution_count": null,
   "id": "a2a29716",
   "metadata": {},
   "outputs": [],
   "source": [
    "#import the data sets\n",
    "gsdb_unclean=pd.read_csv(\"C:\\\\Users\\\\carol\\\\Desktop\\\\School\\\\Ryerson\\\\Final Project CIND 820\\\\datasets\\\\GSDB_V2.csv\")\n",
    "hum_rights_unclean=pd.read_csv(\"C:\\\\Users\\\\carol\\\\Desktop\\\\School\\\\Ryerson\\\\Final Project CIND 820\\\\datasets\\\\human rights violations2.csv\")\n",
    "corruption=pd.read_csv(\"C:\\\\Users\\\\carol\\\\Desktop\\\\School\\\\Ryerson\\\\Final Project CIND 820\\\\datasets\\\\corruption.csv\")\n",
    "QOLI=pd.read_csv(\"C:\\\\Users\\\\carol\\\\Desktop\\\\School\\\\Ryerson\\\\Final Project CIND 820\\\\datasets\\\\physical-quality-of-life-index-scale-0-100-1980–2010.csv\")\n",
    "sanctions=pd.read_csv(\"C:\\\\Users\\\\carol\\\\Desktop\\\\School\\\\Ryerson\\\\Final Project CIND 820\\\\datasets\\\\Sanctions.csv\")"
   ]
  },
  {
   "cell_type": "code",
   "execution_count": null,
   "id": "fd7d74cd",
   "metadata": {},
   "outputs": [],
   "source": [
    "#Information about the databases:\n",
    "\n",
    "#GSDB: \n",
    "#\n",
    "#\n",
    "#\n",
    "\n",
    "#hum_rights\n",
    "#\n",
    "#\n",
    "#\n",
    "\n",
    "#corruption\n",
    "#\n",
    "#\n",
    "#\n",
    "\n",
    "#Quality of Life Index (QOLI)\n",
    "#\n",
    "#\n",
    "#\n",
    "\n"
   ]
  },
  {
   "cell_type": "code",
   "execution_count": null,
   "id": "b0977739",
   "metadata": {},
   "outputs": [],
   "source": [
    "#First look at the GSDB data - first we print the first five rows and column names to understand what is being presented.\n",
    "gsdb_unclean.head()"
   ]
  },
  {
   "cell_type": "code",
   "execution_count": null,
   "id": "dce7671f",
   "metadata": {},
   "outputs": [],
   "source": [
    "#take a look at the general information about the information in the database\n",
    "gsdb_unclean.info()"
   ]
  },
  {
   "cell_type": "code",
   "execution_count": null,
   "id": "038900be",
   "metadata": {},
   "outputs": [],
   "source": [
    "#perform description of the GSDB\n",
    "gsdb_unclean.describe()"
   ]
  },
  {
   "cell_type": "code",
   "execution_count": null,
   "id": "84e48c0f",
   "metadata": {},
   "outputs": [],
   "source": [
    "#Begin cleaning up the database, first, remove unneeded columns - descr_trade is removed because it has many null values and \n",
    "# it specifically deals with trade sanctions which this analysis does not need to consider. Success is dropped as the success\n",
    "# is attributed to self-declaration by the State and the purpose of this analysis is to determine whether the sanctions were\n",
    "# in fact successful.\n",
    "gsdb=gsdb_unclean\n",
    "gsdb.pop(\"descr_trade\")\n",
    "gsdb.pop(\"case_id\")\n",
    "gsdb.pop(\"success\")"
   ]
  },
  {
   "cell_type": "code",
   "execution_count": null,
   "id": "56d5a854",
   "metadata": {},
   "outputs": [],
   "source": [
    "#The Human Rights data begins at 1981. Therefore, the GSDB should be limited to sanctions around that time frame. \n",
    "#Since the analysis is on the effect of sanctions on human rights violations, it would make sense to limit the GDSB data to \n",
    "#sanctions which occur or end within 2 years of sanctions. Therefore, sanctions ending prior to 1979 will not be included. \n",
    "#As the Human Rights data ends at 2011, sanctions imposed after that date will also not be included.\n",
    "gsdb = gsdb[gsdb[\"end\"]>1978]\n",
    "gsdb = gsdb[gsdb[\"begin\"]<2011]"
   ]
  },
  {
   "cell_type": "code",
   "execution_count": null,
   "id": "a13d697b",
   "metadata": {},
   "outputs": [],
   "source": [
    "#Number of sanctions which are devoted to Human Rights issues\n",
    "No_of_Sanct=len(gsdb_unclean.index)\n",
    "HR_Sanct= len(gsdb.index)\n",
    "print(HR_Sanct)\n",
    "print(HR_Sanct/No_of_Sanct)\n",
    "distribution= np.array([HR_Sanct, No_of_Sanct-HR_Sanct])\n",
    "labels=[\"Human Rights Sanctions\", \"Non-Human Rights Sanctions\"]\n",
    "plt.pie(distribution, labels=labels)\n",
    "plt.show()"
   ]
  },
  {
   "cell_type": "code",
   "execution_count": null,
   "id": "57a8193f",
   "metadata": {},
   "outputs": [],
   "source": [
    "#types of sanctions for all sanctions - not just human rights\n",
    "cols=[\"trade\", \"arms\", \"military\", \"financial\", \"travel\", \"other\"]\n",
    "types_sanctions=gsdb[cols].sum(axis=0)\n",
    "types_sanctions.plot(kind=\"bar\")\n",
    "plt.show()"
   ]
  },
  {
   "cell_type": "code",
   "execution_count": null,
   "id": "4d3c4484",
   "metadata": {},
   "outputs": [],
   "source": [
    "#The focus of this analysis are sanctions imposed for the reason of human rights. Therefore, all DO NOT contain human rights\n",
    "#as an objective are to be removed.First we check what different objectives there are.\n",
    "print(gsdb[\"objective\"].unique())"
   ]
  },
  {
   "cell_type": "code",
   "execution_count": null,
   "id": "07484426",
   "metadata": {},
   "outputs": [],
   "source": [
    "#Remove all rows with objectives which are not \"human_rights\"\n",
    "gsdb = gsdb[gsdb[\"objective\"].str.contains(\"human_rights\")]"
   ]
  },
  {
   "cell_type": "code",
   "execution_count": null,
   "id": "c9c072f2",
   "metadata": {},
   "outputs": [],
   "source": [
    "#view the types of sanctions for specifically human rights violations\n",
    "cols=[\"trade\", \"arms\", \"military\", \"financial\", \"travel\", \"other\"]\n",
    "types_sanctions=gsdb[cols].sum(axis=0)\n",
    "types_sanctions.plot(kind=\"bar\")\n",
    "plt.show()"
   ]
  },
  {
   "cell_type": "code",
   "execution_count": null,
   "id": "017a18d2",
   "metadata": {},
   "outputs": [],
   "source": [
    "#Determine how long the sanctions were in place, make this into a new column named time\n",
    "gsdb[\"time\"] = gsdb[\"end\"]-gsdb[\"begin\"]+1\n",
    "#Show the frequency of the time that sanctions are active\n",
    "gsdb['time'].value_counts().sort_index().plot(kind=\"bar\")\n",
    "plt.xlabel(\"Years\")\n",
    "plt.ylabel(\"Count\")\n",
    "plt.show()\n",
    "print(\"The Median is:\", statistics.median(gsdb[\"time\"]))"
   ]
  },
  {
   "cell_type": "code",
   "execution_count": null,
   "id": "0bdbfc53",
   "metadata": {},
   "outputs": [],
   "source": [
    "#break up the databases into numerical and categorical to facilitate the different analyses\n",
    "gsdb_num=gsdb[[\"begin\", \"end\", \"trade\", \"arms\", \"military\", \"financial\", \"travel\", \"time\"]]\n",
    "gsdb_cat=gsdb[[\"sanctioned_state\", \"sanctioning_state\"]]"
   ]
  },
  {
   "cell_type": "code",
   "execution_count": null,
   "id": "46964943",
   "metadata": {},
   "outputs": [],
   "source": [
    "for i in gsdb_num.columns:\n",
    "    plt.hist(gsdb_num[i])\n",
    "    plt.title(i)\n",
    "    plt.show()"
   ]
  },
  {
   "cell_type": "code",
   "execution_count": null,
   "id": "e4092f98",
   "metadata": {},
   "outputs": [],
   "source": [
    "#look at beginner correlations to see if there is any correlation between the types of sanctions imposed\n",
    "print(gsdb_num.corr())\n",
    "sn.heatmap(gsdb_num.corr())"
   ]
  },
  {
   "cell_type": "code",
   "execution_count": null,
   "id": "182e2e4b",
   "metadata": {},
   "outputs": [],
   "source": [
    "#Review the unique Target States\n",
    "countries=gsdb[\"sanctioned_state\"].unique()\n",
    "print(countries)"
   ]
  },
  {
   "cell_type": "code",
   "execution_count": null,
   "id": "45242602",
   "metadata": {},
   "outputs": [],
   "source": [
    "#Determine how many times a State was sanctions - will bring this into the human rights database\n",
    "sanct_freq=gsdb['sanctioned_state'].value_counts()\n",
    "#Determine the distribution of the target States.\n",
    "sanct_freq.sort_index().plot(kind=\"bar\")\n",
    "plt.show()"
   ]
  },
  {
   "cell_type": "code",
   "execution_count": null,
   "id": "49f111e1",
   "metadata": {},
   "outputs": [],
   "source": []
  },
  {
   "cell_type": "code",
   "execution_count": null,
   "id": "1b3b24bb",
   "metadata": {},
   "outputs": [],
   "source": [
    "#THE HUMAN RIGHTS DATASET"
   ]
  },
  {
   "cell_type": "code",
   "execution_count": null,
   "id": "e9972ad3",
   "metadata": {},
   "outputs": [],
   "source": [
    "hum_rights_unclean.head()"
   ]
  },
  {
   "cell_type": "code",
   "execution_count": null,
   "id": "2bd42abd",
   "metadata": {},
   "outputs": [],
   "source": [
    "hum_rights_unclean.info()"
   ]
  },
  {
   "cell_type": "code",
   "execution_count": null,
   "id": "ea8e829f",
   "metadata": {},
   "outputs": [],
   "source": [
    "hum_rights_unclean.describe()"
   ]
  },
  {
   "cell_type": "code",
   "execution_count": null,
   "id": "9bb5cb7e",
   "metadata": {},
   "outputs": [],
   "source": [
    "#Unnecessary columns: CIRI, COW, POLITY, UNCTRY, UNREG, UNSUBREG, as these are identifiers\n",
    "#Remove OLD columns as they are variable calculated in an older way and are outdated. \n",
    "hum_rights_unclean.pop(\"CIRI\")\n",
    "hum_rights_unclean.pop(\"COW\")\n",
    "hum_rights_unclean.pop(\"POLITY\")\n",
    "hum_rights_unclean.pop(\"UNCTRY\")\n",
    "hum_rights_unclean.pop(\"UNREG\")\n",
    "hum_rights_unclean.pop(\"UNSUBREG\")\n",
    "hum_rights_unclean.pop(\"OLD_EMPINX\")\n",
    "hum_rights_unclean.pop(\"OLD_MOVE\")\n",
    "hum_rights_unclean.pop(\"OLD_RELFRE\")"
   ]
  },
  {
   "cell_type": "code",
   "execution_count": null,
   "id": "489a58c1",
   "metadata": {},
   "outputs": [],
   "source": [
    "#According to the data description, any unknown data is listed as -999, any data during periods of interregnum or interruption\n",
    "#are listed at -77 or -66. Therefore, any data below ZERO cannot be relied upon. Changing such numbers to ZERO would imply that\n",
    "#there are serious violations, which could be misleading. Therefore, it would be best to remove such data and not include it \n",
    "#in most of the analysis\n",
    "hum_rights=hum_rights_unclean\n",
    "cols=[\"PHYSINT\",\"DISAP\",\"KILL\",\"POLPRIS\",\"TORT\",\"NEW_EMPINX\",\"ASSN\",\"FORMOV\",\"DOMMOV\",\"SPEECH\",\"ELECSD\",\"NEW_RELFRE\",\"WORKER\",\"WECON\",\"WOPOL\",\"WOSOC\",\"INJUD\"]\n",
    "\n",
    "hum_rights[cols] = hum_rights[cols].mask(np.isclose(hum_rights[cols].values, -999.000000))\n",
    "hum_rights[cols] = hum_rights[cols].mask(np.isclose(hum_rights[cols].values, -77.000000))\n",
    "hum_rights[cols] = hum_rights[cols].mask(np.isclose(hum_rights[cols].values, -66.000000))\n"
   ]
  },
  {
   "cell_type": "code",
   "execution_count": null,
   "id": "48bde131",
   "metadata": {},
   "outputs": [],
   "source": [
    "#plot preliminary histograms for the numeric data\n",
    "for i in hum_rights.columns:\n",
    "    plt.hist(hum_rights[i])\n",
    "    plt.title(i)\n",
    "    plt.show()"
   ]
  },
  {
   "cell_type": "code",
   "execution_count": null,
   "id": "1f46a506",
   "metadata": {},
   "outputs": [],
   "source": [
    "#Normalize the data in order to perform analysis on it.\n",
    "hum_rights[cols]=(hum_rights[cols]-hum_rights[cols].min())/(hum_rights[cols].max()-hum_rights[cols].min())\n",
    "hum_rights=hum_rights.round(3) #for readability"
   ]
  },
  {
   "cell_type": "code",
   "execution_count": null,
   "id": "c1e318eb",
   "metadata": {},
   "outputs": [],
   "source": [
    "#A column is created to provide a summary number of the Human Rights Score total\n",
    "hum_rights[\"HR_Score\"] = hum_rights[cols].sum(axis=1)"
   ]
  },
  {
   "cell_type": "code",
   "execution_count": null,
   "id": "94a4370b",
   "metadata": {},
   "outputs": [],
   "source": [
    "#Calculate the change in violation score\n",
    "hum_rights[\"PREVIOUS\"]=hum_rights[\"HR_Score\"].shift(1)\n",
    "hum_rights[\"CHANGE\"]=hum_rights[\"HR_Score\"]-hum_rights[\"PREVIOUS\"]\n",
    "hum_rights[\"CHANGE\"]=hum_rights[\"CHANGE\"].round(3)"
   ]
  },
  {
   "cell_type": "code",
   "execution_count": null,
   "id": "17837e40",
   "metadata": {},
   "outputs": [],
   "source": [
    "#look at the histograms again following the normalization and addition of columns\n",
    "for i in hum_rights.columns:\n",
    "    plt.hist(hum_rights[i])\n",
    "    plt.title(i)\n",
    "    plt.show()"
   ]
  },
  {
   "cell_type": "code",
   "execution_count": null,
   "id": "8d50baba",
   "metadata": {},
   "outputs": [],
   "source": [
    "#create a db for unsanctioned states to compare the results\n",
    "unsanctioned=hum_rights\n",
    "unsanctioned=unsanctioned[~unsanctioned[\"CTRY\"].isin(countries)]\n",
    "unsanctioned.head()"
   ]
  },
  {
   "cell_type": "code",
   "execution_count": null,
   "id": "c1a39a53",
   "metadata": {},
   "outputs": [],
   "source": [
    "for i in unsanctioned.columns:\n",
    "    plt.hist(unsanctioned[i])\n",
    "    plt.title(i)\n",
    "    plt.show()"
   ]
  },
  {
   "cell_type": "code",
   "execution_count": null,
   "id": "daea9c05",
   "metadata": {},
   "outputs": [],
   "source": [
    "#Not every country in the human rights database has been subject to sanctions. We will remove those unsanctioned countries \n",
    "countries_inc=gsdb[\"sanctioned_state\"]\n",
    "countries_HR=hum_rights[\"CTRY\"].unique()\n",
    "sanct_countries=set(countries_HR).difference(countries_inc)\n",
    "SC=list(sanct_countries)\n",
    "hum_rights=hum_rights[~hum_rights['CTRY'].str.contains('|'.join(SC))]"
   ]
  },
  {
   "cell_type": "code",
   "execution_count": null,
   "id": "2281e963",
   "metadata": {},
   "outputs": [],
   "source": [
    "hum_rights.head()"
   ]
  },
  {
   "cell_type": "code",
   "execution_count": null,
   "id": "ec89437e",
   "metadata": {},
   "outputs": [],
   "source": [
    "hum_rights.info()"
   ]
  },
  {
   "cell_type": "code",
   "execution_count": null,
   "id": "3a91ea0e",
   "metadata": {},
   "outputs": [],
   "source": [
    "hum_rights.describe()"
   ]
  },
  {
   "cell_type": "code",
   "execution_count": null,
   "id": "9fe7e5db",
   "metadata": {},
   "outputs": [],
   "source": [
    "#look at the histograms again following the removal of unsanctioned states\n",
    "for i in hum_rights.columns:\n",
    "    plt.hist(hum_rights[i])\n",
    "    plt.title(i)\n",
    "    plt.show()"
   ]
  },
  {
   "cell_type": "code",
   "execution_count": null,
   "id": "dad15db9",
   "metadata": {},
   "outputs": [],
   "source": [
    "#Checking the correlation of the variables within the human rights dataframe\n",
    "print(hum_rights.corr())\n",
    "sn.heatmap(hum_rights.corr())"
   ]
  },
  {
   "cell_type": "code",
   "execution_count": null,
   "id": "eb4a320f",
   "metadata": {},
   "outputs": [],
   "source": [
    "#The top countries which have been sanctioned\n",
    "hum_rights.loc[hum_rights['HR_Score'] > 16]"
   ]
  },
  {
   "cell_type": "code",
   "execution_count": null,
   "id": "ca741c10",
   "metadata": {},
   "outputs": [],
   "source": []
  },
  {
   "cell_type": "code",
   "execution_count": null,
   "id": "e35fa138",
   "metadata": {},
   "outputs": [],
   "source": [
    "#QUALITY OF LIFE INDEX"
   ]
  },
  {
   "cell_type": "code",
   "execution_count": null,
   "id": "78b66753",
   "metadata": {},
   "outputs": [],
   "source": [
    "QOLI.head()"
   ]
  },
  {
   "cell_type": "code",
   "execution_count": null,
   "id": "4ec3fc03",
   "metadata": {},
   "outputs": [],
   "source": [
    "QOLI.info() #There are some missing values, which should be filled with means of the scores on either side"
   ]
  },
  {
   "cell_type": "code",
   "execution_count": null,
   "id": "cf057701",
   "metadata": {},
   "outputs": [],
   "source": [
    "QOLI.describe()"
   ]
  },
  {
   "cell_type": "code",
   "execution_count": null,
   "id": "157843f7",
   "metadata": {},
   "outputs": [],
   "source": [
    "Country_col=list(QOLI[\"Country\"])\n",
    "QOLI.pop(\"Country\")\n",
    "#fill the NaN values with the means of a row\n",
    "QOLI=QOLI.transpose().fillna(QOLI.mean(axis=1)).transpose()\n",
    "QOLI.pop(\"1980\")\n",
    "QOLI[\"2011\"]=QOLI[\"2010\"]#since the dataframe does not extend to 2011, we assume that the scores given in 2010 are similar\n",
    "#to those which would be awarded in 2011\n",
    "QOLI.insert(loc=0, column=\"CTRY\", value=Country_col)"
   ]
  },
  {
   "cell_type": "code",
   "execution_count": null,
   "id": "31f2b290",
   "metadata": {},
   "outputs": [],
   "source": [
    "#merge the human rights data with the QOLI information\n",
    "melted=pd.melt(QOLI, id_vars=[\"CTRY\"], value_vars=[\"1981\",\"1982\",\"1983\",\"1984\",\"1985\",\"1986\",\"1987\",\"1988\",\"1989\",\"1990\",\"1991\",\"1992\",\"1993\",\"1994\",\"1995\",\"1996\",\"1997\",\"1998\",\"1999\",\"2000\",\"2001\",\"2002\",\"2003\",\"2004\",\"2005\",\"2006\",\"2007\",\"2008\",\"2009\",\"2010\",\"2011\"], var_name=\"YEAR\", value_name=\"QOLI_Score\")\n",
    "melted[\"YEAR\"]=melted[\"YEAR\"].astype(int)\n",
    "hum_rights=hum_rights.merge(melted, on=['CTRY', 'YEAR'], how='left')"
   ]
  },
  {
   "cell_type": "code",
   "execution_count": null,
   "id": "03dabb3a",
   "metadata": {},
   "outputs": [],
   "source": [
    "hum_rights[\"QOLI_Score\"]=hum_rights[\"QOLI_Score\"].replace('nan', pd.NA)\n",
    "QOLI_chart=hum_rights[\"QOLI_Score\"]\n",
    "QOLI_chart.hist(bins=200)\n",
    "plt.xlabel(\"QOLI Score\")\n",
    "plt.ylabel(\"Frequency\")\n",
    "plt.title(\"QOLI Scores of all States in Database\")\n",
    "plt.show()"
   ]
  },
  {
   "cell_type": "code",
   "execution_count": null,
   "id": "d463c174",
   "metadata": {},
   "outputs": [],
   "source": [
    "#Check if the the distribution was similar in one year\n",
    "QOLI_chart=hum_rights[\"QOLI_Score\"].where(hum_rights[\"YEAR\"]==2011)\n",
    "QOLI_chart.hist(bins=30)\n",
    "plt.show()"
   ]
  },
  {
   "cell_type": "code",
   "execution_count": null,
   "id": "1085bd81",
   "metadata": {},
   "outputs": [],
   "source": [
    "med=statistics.median(hum_rights[\"QOLI_Score\"])\n",
    "mean=hum_rights[\"QOLI_Score\"].mean()\n",
    "mode=statistics.mode(hum_rights[\"QOLI_Score\"])\n",
    "print(\"The median is:\",med, \"The mean is:\", mean,\"The mode is:\", mode)"
   ]
  },
  {
   "cell_type": "code",
   "execution_count": null,
   "id": "e26dd12b",
   "metadata": {},
   "outputs": [],
   "source": [
    "#Look at the distribution of the QOLI score when there are no sanctions\n",
    "QOLI_unsanct=hum_rights[\"QOLI_Score\"].where(hum_rights[\"SANCTION\"]==\"N\")\n",
    "QOLI_unsanct.hist(bins=200)\n",
    "plt.xlabel(\"QOLI Score\")\n",
    "plt.ylabel(\"Frequency\")\n",
    "plt.title(\"QOLI Scores of unsanctioned States\")\n",
    "plt.show()\n",
    "med=statistics.median(QOLI_unsanct)\n",
    "mean=QOLI_unsanct.mean()\n",
    "mode=statistics.mode(QOLI_unsanct)\n",
    "print(\"The median is:\",med, \"The mean is:\", mean,\"The mode is:\", mode)"
   ]
  },
  {
   "cell_type": "code",
   "execution_count": null,
   "id": "1a8c810b",
   "metadata": {},
   "outputs": [],
   "source": [
    "QOLI_sanct=hum_rights[\"QOLI_Score\"].where(hum_rights[\"SANCTION\"]==\"Y\")\n",
    "QOLI_sanct=QOLI_sanct.dropna()\n",
    "QOLI_sanct.hist(bins=200)\n",
    "plt.xlabel(\"QOLI Score\")\n",
    "plt.ylabel(\"Frequency\")\n",
    "plt.title(\"QOLI Scores of sanctioned States\")\n",
    "plt.show()\n",
    "med=statistics.median(QOLI_sanct)\n",
    "mean=QOLI_sanct.mean()\n",
    "mode=statistics.mode(QOLI_sanct)\n",
    "print(\"The median is:\",med, \"The mean is:\", mean,\"The mode is:\", mode)"
   ]
  },
  {
   "cell_type": "code",
   "execution_count": null,
   "id": "d0c57767",
   "metadata": {},
   "outputs": [],
   "source": [
    "QOLI_y1=hum_rights[\"QOLI_Score\"].where(hum_rights[\"SANCTION\"]==\"1\")\n",
    "QOLI_y1=QOLI_y1.dropna()\n",
    "QOLI_y1.hist(bins=50)\n",
    "plt.show()\n",
    "med=statistics.median(QOLI_y1)\n",
    "mean=QOLI_y1.mean()\n",
    "mode=statistics.mode(QOLI_y1)\n",
    "print(\"The median is:\", med, \"The mean is:\", mean,\"The mode is:\", mode)"
   ]
  },
  {
   "cell_type": "code",
   "execution_count": null,
   "id": "553d2e97",
   "metadata": {},
   "outputs": [],
   "source": [
    "QOLI_y2=hum_rights[\"QOLI_Score\"].where(hum_rights[\"SANCTION\"]==\"2\")\n",
    "QOLI_y2=QOLI_y2.dropna()\n",
    "QOLI_y2.hist(bins=50)\n",
    "plt.show()\n",
    "med=statistics.median(QOLI_y2)\n",
    "mean=QOLI_y2.mean()\n",
    "mode=statistics.mode(QOLI_y2)\n",
    "print(\"The median is:\",med, \"The mean is:\", mean,\"The mode is:\", mode)"
   ]
  },
  {
   "cell_type": "code",
   "execution_count": null,
   "id": "e62f48e0",
   "metadata": {},
   "outputs": [],
   "source": [
    "QOLI_y3=hum_rights[\"QOLI_Score\"].where(hum_rights[\"SANCTION\"]==\"3\")\n",
    "QOLI_y3=QOLI_y3.dropna()\n",
    "QOLI_y3.hist(bins=50)\n",
    "plt.show()\n",
    "med=statistics.median(QOLI_y3)\n",
    "mean=QOLI_y3.mean()\n",
    "mode=statistics.mode(QOLI_y3)\n",
    "print(\"The median is:\",med, \"The mean is:\", mean,\"The mode is:\", mode)"
   ]
  },
  {
   "cell_type": "code",
   "execution_count": null,
   "id": "d28efe06",
   "metadata": {},
   "outputs": [],
   "source": [
    "QOLI_y4=hum_rights[\"QOLI_Score\"].where(hum_rights[\"SANCTION\"]==\"4\")\n",
    "QOLI_y4=QOLI_y4.dropna()\n",
    "QOLI_y4.hist(bins=50)\n",
    "plt.show()\n",
    "med=statistics.median(QOLI_y4)\n",
    "mean=QOLI_y4.mean()\n",
    "mode=statistics.mode(QOLI_y4)\n",
    "print(\"The median is:\",med, \"The mean is:\", mean,\"The mode is:\", mode)"
   ]
  },
  {
   "cell_type": "code",
   "execution_count": null,
   "id": "fe751d40",
   "metadata": {},
   "outputs": [],
   "source": [
    "QOLI_y5=hum_rights[\"QOLI_Score\"].where(hum_rights[\"SANCTION\"]==\"5\")\n",
    "QOLI_y5=QOLI_y5.dropna()\n",
    "QOLI_y5.hist(bins=50)\n",
    "plt.show()\n",
    "med=statistics.median(QOLI_y5)\n",
    "mean=QOLI_y5.mean()\n",
    "mode=statistics.mode(QOLI_y5)\n",
    "print(\"The median is:\",med, \"The mean is:\", mean,\"The mode is:\", mode)"
   ]
  },
  {
   "cell_type": "code",
   "execution_count": null,
   "id": "89156752",
   "metadata": {},
   "outputs": [],
   "source": []
  },
  {
   "cell_type": "code",
   "execution_count": null,
   "id": "00dc5ded",
   "metadata": {},
   "outputs": [],
   "source": [
    "#Corruption Data"
   ]
  },
  {
   "cell_type": "code",
   "execution_count": null,
   "id": "2e014bcc",
   "metadata": {},
   "outputs": [],
   "source": [
    "#bring in the corruption data and alter it to work with the other databases so that it can be brought into the human rights database\n",
    "corruption.rename(columns={\"Jurisdiction\":\"CTRY\"}, inplace=True)\n",
    "melted_cor=pd.melt(corruption, id_vars=[\"CTRY\"], value_vars=[\"1998\",\"1999\",\"2000\",\"2001\",\"2002\",\"2003\",\"2004\",\"2005\",\"2006\",\"2007\",\"2008\",\"2009\",\"2010\",\"2011\"], var_name=\"YEAR\", value_name=\"Corruption_Score\")\n",
    "melted_cor[\"YEAR\"]=melted_cor[\"YEAR\"].astype(int)\n",
    "hum_rights = hum_rights.replace('-', np.nan)\n",
    "hum_rights=hum_rights.merge(melted_cor, on=['CTRY', 'YEAR'], how='left')"
   ]
  },
  {
   "cell_type": "code",
   "execution_count": null,
   "id": "42b3cadc",
   "metadata": {},
   "outputs": [],
   "source": [
    "corruption.head()"
   ]
  },
  {
   "cell_type": "markdown",
   "id": "274fa748",
   "metadata": {},
   "source": []
  },
  {
   "cell_type": "code",
   "execution_count": null,
   "id": "fc4c9787",
   "metadata": {},
   "outputs": [],
   "source": [
    "corruption.info()"
   ]
  },
  {
   "cell_type": "code",
   "execution_count": null,
   "id": "776e35e4",
   "metadata": {},
   "outputs": [],
   "source": [
    "corruption.describe()"
   ]
  },
  {
   "cell_type": "code",
   "execution_count": null,
   "id": "ed15bc5a",
   "metadata": {},
   "outputs": [],
   "source": [
    "hum_rights = hum_rights.replace('-', np.nan)\n",
    "hum_rights[\"Corruption_Score\"]=hum_rights[\"Corruption_Score\"].astype(float)"
   ]
  },
  {
   "cell_type": "code",
   "execution_count": null,
   "id": "adda639e",
   "metadata": {},
   "outputs": [],
   "source": [
    "#overall corruption\n",
    "corruption_all=hum_rights[\"Corruption_Score\"]\n",
    "corruption_all.hist(bins=200)\n",
    "plt.xlabel(\"Corruption Score\")\n",
    "plt.ylabel(\"Frequency\")\n",
    "plt.title(\"Overall Corruption Scores\")\n",
    "plt.show()"
   ]
  },
  {
   "cell_type": "code",
   "execution_count": null,
   "id": "35a06b57",
   "metadata": {},
   "outputs": [],
   "source": [
    "med=np.nanmedian(corruption_all)\n",
    "mean=corruption_all.mean()\n",
    "mode=statistics.mode(corruption_all)\n",
    "print(\"The median is\", med, \"The mean is\", mean, \"The mode is\", mode)"
   ]
  },
  {
   "cell_type": "code",
   "execution_count": null,
   "id": "852babf7",
   "metadata": {},
   "outputs": [],
   "source": [
    "Corruption_no_sanct=hum_rights[\"Corruption_Score\"].where(hum_rights[\"SANCTION\"]==\"N\")\n",
    "Corruption_no_sanct.hist(bins=200)\n",
    "plt.show()"
   ]
  },
  {
   "cell_type": "code",
   "execution_count": null,
   "id": "fea359ee",
   "metadata": {
    "scrolled": false
   },
   "outputs": [],
   "source": [
    "med=np.nanmedian(Corruption_no_sanct)\n",
    "mean=Corruption_no_sanct.mean()\n",
    "mode=statistics.mode(Corruption_no_sanct)\n",
    "print(\"The median is\", med, \"The mean is\", mean, \"The mode is\", mode)"
   ]
  },
  {
   "cell_type": "code",
   "execution_count": null,
   "id": "3fec79dd",
   "metadata": {},
   "outputs": [],
   "source": [
    "Corruption_sanct=hum_rights[\"Corruption_Score\"].where(hum_rights[\"SANCTION\"]==\"Y\")\n",
    "Corruption_sanct.hist(bins=200)\n",
    "plt.show()"
   ]
  },
  {
   "cell_type": "code",
   "execution_count": null,
   "id": "862301b2",
   "metadata": {},
   "outputs": [],
   "source": [
    "med=np.nanmedian(Corruption_sanct)\n",
    "mean=Corruption_sanct.mean()\n",
    "mode=statistics.mode(Corruption_sanct)\n",
    "print(\"The median is\", med, \"The mean is\", mean, \"The mode is\", mode)"
   ]
  },
  {
   "cell_type": "code",
   "execution_count": null,
   "id": "28207000",
   "metadata": {},
   "outputs": [],
   "source": [
    "Corruption_y1=hum_rights[\"Corruption_Score\"].where(hum_rights[\"SANCTION\"]==\"1\")\n",
    "Corruption_y1.hist(bins=30)\n",
    "plt.show()"
   ]
  },
  {
   "cell_type": "code",
   "execution_count": null,
   "id": "896356d8",
   "metadata": {},
   "outputs": [],
   "source": [
    "med=np.nanmedian(Corruption_y1)\n",
    "mean=Corruption_y1.mean()\n",
    "mode=statistics.mode(Corruption_y1)\n",
    "print(\"The median is\", med, \"The mean is\", mean, \"The mode is\", mode)"
   ]
  },
  {
   "cell_type": "code",
   "execution_count": null,
   "id": "8e669cd6",
   "metadata": {},
   "outputs": [],
   "source": [
    "Corruption_y2=hum_rights[\"Corruption_Score\"].where(hum_rights[\"SANCTION\"]==\"2\")\n",
    "Corruption_y2.hist(bins=30)\n",
    "plt.show()"
   ]
  },
  {
   "cell_type": "code",
   "execution_count": null,
   "id": "bd1ef073",
   "metadata": {},
   "outputs": [],
   "source": [
    "med=np.nanmedian(Corruption_y2)\n",
    "mean=Corruption_y2.mean()\n",
    "mode=statistics.mode(Corruption_y2)\n",
    "print(\"The median is\", med, \"The mean is\", mean, \"The mode is\", mode)"
   ]
  },
  {
   "cell_type": "code",
   "execution_count": null,
   "id": "3df05261",
   "metadata": {},
   "outputs": [],
   "source": [
    "Corruption_y3=hum_rights[\"Corruption_Score\"].where(hum_rights[\"SANCTION\"]==\"3\")\n",
    "Corruption_y3.hist(bins=30)\n",
    "plt.show()"
   ]
  },
  {
   "cell_type": "code",
   "execution_count": null,
   "id": "c5abd17b",
   "metadata": {},
   "outputs": [],
   "source": [
    "med=np.nanmedian(Corruption_y3)\n",
    "mean=Corruption_y3.mean()\n",
    "mode=statistics.mode(Corruption_y3)\n",
    "print(\"The median is\", med, \"The mean is\", mean, \"The mode is\", mode)"
   ]
  },
  {
   "cell_type": "code",
   "execution_count": null,
   "id": "e7433040",
   "metadata": {},
   "outputs": [],
   "source": [
    "Corruption_y4=hum_rights[\"Corruption_Score\"].where(hum_rights[\"SANCTION\"]==\"4\")\n",
    "Corruption_y4.hist(bins=30)\n",
    "plt.show()"
   ]
  },
  {
   "cell_type": "code",
   "execution_count": null,
   "id": "4a48ef27",
   "metadata": {},
   "outputs": [],
   "source": [
    "med=np.nanmedian(Corruption_y4)\n",
    "mean=Corruption_y4.mean()\n",
    "mode=statistics.mode(Corruption_y4)\n",
    "print(\"The median is\", med, \"The mean is\", mean, \"The mode is\", mode)"
   ]
  },
  {
   "cell_type": "code",
   "execution_count": null,
   "id": "63c014fe",
   "metadata": {},
   "outputs": [],
   "source": [
    "Corruption_y5=hum_rights[\"Corruption_Score\"].where(hum_rights[\"SANCTION\"]==\"5\")\n",
    "Corruption_y5.hist(bins=30)\n",
    "plt.show()"
   ]
  },
  {
   "cell_type": "code",
   "execution_count": null,
   "id": "56c4a1aa",
   "metadata": {},
   "outputs": [],
   "source": [
    "med=np.nanmedian(Corruption_y5)\n",
    "mean=Corruption_y5.mean()\n",
    "mode=statistics.mode(Corruption_y5)\n",
    "print(\"The median is\", med, \"The mean is\", mean, \"The mode is\", mode)"
   ]
  },
  {
   "cell_type": "code",
   "execution_count": null,
   "id": "dd3b5b8c",
   "metadata": {},
   "outputs": [],
   "source": [
    "#BRING IN A SUCCESS COLUMN TO hum_rights\n",
    "keys=sanctions[\"Target\"]\n",
    "values=sanctions[\"Success\"]\n",
    "dictionary = dict(zip(keys, values))\n",
    "hum_rights[\"Success\"]= hum_rights[\"CTRY\"].map(dictionary)"
   ]
  },
  {
   "cell_type": "code",
   "execution_count": null,
   "id": "4b5db796",
   "metadata": {},
   "outputs": [],
   "source": [
    "#show the distribution of successful and failed sanctions\n",
    "success=sanctions[\"Success\"]\n",
    "success.hist()\n",
    "plt.xlabel(\"\")\n",
    "plt.show()"
   ]
  },
  {
   "cell_type": "code",
   "execution_count": null,
   "id": "bf6b684a",
   "metadata": {},
   "outputs": [],
   "source": [
    "hum_rights[\"Success\"].value_counts()"
   ]
  },
  {
   "cell_type": "code",
   "execution_count": null,
   "id": "19401355",
   "metadata": {},
   "outputs": [],
   "source": [
    "success=527\n",
    "fail=496\n",
    "distribution= np.array([success, fail])\n",
    "labels=[\"Success\", \"Fail\"]\n",
    "plt.pie(distribution, labels=labels)\n",
    "plt.title(\"Distribution of Success vs Failure\")\n",
    "plt.show()"
   ]
  },
  {
   "cell_type": "code",
   "execution_count": null,
   "id": "4bae2aae",
   "metadata": {},
   "outputs": [],
   "source": [
    "no_sanct=hum_rights[hum_rights[\"SANCTION\"]==\"N\"]\n",
    "under_sanct=hum_rights[hum_rights[\"SANCTION\"]==\"Y\"]\n",
    "year1=hum_rights[hum_rights[\"SANCTION\"]==\"1\"]\n",
    "year2=hum_rights[hum_rights[\"SANCTION\"]==\"2\"]\n",
    "year3=hum_rights[hum_rights[\"SANCTION\"]==\"3\"]\n",
    "year4=hum_rights[hum_rights[\"SANCTION\"]==\"4\"]\n",
    "year5=hum_rights[hum_rights[\"SANCTION\"]==\"5\"]\n",
    "num_no_sanct=len(no_sanct)\n",
    "num_sanct=len(under_sanct)\n",
    "num_year1=len(year1)\n",
    "num_year2=len(year2)\n",
    "num_year3=len(year3)\n",
    "num_year4=len(year4)\n",
    "num_year5=len(year5)"
   ]
  },
  {
   "cell_type": "code",
   "execution_count": null,
   "id": "642cace2",
   "metadata": {},
   "outputs": [],
   "source": [
    "#the distribution of sanctions, no sanctions and years after sanctions\n",
    "instances=[num_no_sanct, num_sanct, num_year1, num_year2, num_year3, num_year4, num_year5]\n",
    "x_inst=(\"no_sanct\", \"sanct\", \"year1\", \"year2\", \"year3\", \"year4\", \"year5\")\n",
    "x_position=np.arange(len(x_inst))\n",
    "plt.bar(x_position, instances)\n",
    "plt.xticks(x_position, x_inst)\n",
    "plt.xlabel(\"Sanction Status\")\n",
    "plt.ylabel(\"Count\")\n",
    "plt.show()"
   ]
  },
  {
   "cell_type": "code",
   "execution_count": null,
   "id": "e2ff87be",
   "metadata": {},
   "outputs": [],
   "source": [
    "#Remove no sanctionsto see the more important distributions\n",
    "instances=[num_sanct, num_year1, num_year2, num_year3, num_year4, num_year5]\n",
    "x_inst=(\"sanct\", \"year1\", \"year2\", \"year3\", \"year4\", \"year5\")\n",
    "x_position=np.arange(len(x_inst))\n",
    "plt.bar(x_position, instances)\n",
    "plt.xticks(x_position, x_inst)\n",
    "plt.show()"
   ]
  },
  {
   "cell_type": "code",
   "execution_count": null,
   "id": "f796e7a2",
   "metadata": {},
   "outputs": [],
   "source": [
    "no_sanct_mean=no_sanct[\"CHANGE\"].mean()\n",
    "under_sanct_mean=under_sanct[\"CHANGE\"].mean()\n",
    "year1_mean=year1[\"CHANGE\"].mean()\n",
    "year2_mean=year2[\"CHANGE\"].mean()\n",
    "year3_mean=year3[\"CHANGE\"].mean()\n",
    "year4_mean=year4[\"CHANGE\"].mean()\n",
    "year5_mean=year5[\"CHANGE\"].mean()"
   ]
  },
  {
   "cell_type": "code",
   "execution_count": null,
   "id": "be899970",
   "metadata": {},
   "outputs": [],
   "source": [
    "#demonstrate the average change at each status time\n",
    "means=[no_sanct_mean, under_sanct_mean, year1_mean, year2_mean, year3_mean, year4_mean, year5_mean]\n",
    "x_inst=(\"no_sanct\",\"sanct\", \"year1\", \"year2\", \"year3\", \"year4\", \"year5\")\n",
    "x_position=np.arange(len(x_inst))\n",
    "plt.bar(x_position, means)\n",
    "plt.xticks(x_position, x_inst)\n",
    "plt.show()"
   ]
  },
  {
   "cell_type": "code",
   "execution_count": null,
   "id": "6981a979",
   "metadata": {},
   "outputs": [],
   "source": [
    "#T-TESTS\n",
    "#First, we plot the distributions of the rate of change for each time\n",
    "no_sanct.hist(column=\"HR_Score\", bins=200)\n",
    "plt.xlabel(\"Human Rights Score\")\n",
    "plt.ylabel(\"Frequency\")\n",
    "plt.title(\"No Sanction Scores\")\n",
    "plt.show()"
   ]
  },
  {
   "cell_type": "code",
   "execution_count": null,
   "id": "b5592d81",
   "metadata": {},
   "outputs": [],
   "source": [
    "under_sanct.hist(column=\"HR_Score\", bins=200)\n",
    "plt.xlabel(\"Human Rights Score\")\n",
    "plt.ylabel(\"Frequency\")\n",
    "plt.title(\"Sanctioned Scores\")\n",
    "plt.show()"
   ]
  },
  {
   "cell_type": "code",
   "execution_count": null,
   "id": "95feab17",
   "metadata": {},
   "outputs": [],
   "source": [
    "unsanctioned.hist(column=\"HR_Score\", bins=200)\n",
    "plt.xlabel(\"Human Rights Score\")\n",
    "plt.ylabel(\"Frequency\")\n",
    "plt.title(\"Never Sanctioned States\")\n",
    "plt.show()"
   ]
  },
  {
   "cell_type": "code",
   "execution_count": null,
   "id": "6d44a892",
   "metadata": {},
   "outputs": [],
   "source": [
    "year1.hist(column=\"HR_Score\", bins=50)\n",
    "plt.show()"
   ]
  },
  {
   "cell_type": "code",
   "execution_count": null,
   "id": "69e3c6a7",
   "metadata": {},
   "outputs": [],
   "source": [
    "year2.hist(column=\"HR_Score\", bins=50)\n",
    "plt.show()"
   ]
  },
  {
   "cell_type": "code",
   "execution_count": null,
   "id": "c1fdaf6e",
   "metadata": {},
   "outputs": [],
   "source": [
    "year3.hist(column=\"HR_Score\", bins=50)\n",
    "plt.show()"
   ]
  },
  {
   "cell_type": "code",
   "execution_count": null,
   "id": "559ab4f9",
   "metadata": {},
   "outputs": [],
   "source": [
    "year4.hist(column=\"HR_Score\", bins=50)\n",
    "plt.show()"
   ]
  },
  {
   "cell_type": "code",
   "execution_count": null,
   "id": "13ccc921",
   "metadata": {},
   "outputs": [],
   "source": [
    "year5.hist(column=\"HR_Score\", bins=50)\n",
    "plt.show()"
   ]
  },
  {
   "cell_type": "code",
   "execution_count": null,
   "id": "3832b4cc",
   "metadata": {},
   "outputs": [],
   "source": [
    "stats.ttest_ind(hum_rights['HR_Score'][hum_rights['SANCTION'] == 'N'],\n",
    "                hum_rights['HR_Score'][hum_rights['SANCTION'] == 'Y'])\n"
   ]
  },
  {
   "cell_type": "code",
   "execution_count": null,
   "id": "8dfc7e89",
   "metadata": {},
   "outputs": [],
   "source": [
    "stats.ttest_ind(hum_rights['HR_Score'][hum_rights['SANCTION'] == 'N'],\n",
    "                hum_rights['HR_Score'][hum_rights['SANCTION'] == '1'])"
   ]
  },
  {
   "cell_type": "code",
   "execution_count": null,
   "id": "db138603",
   "metadata": {},
   "outputs": [],
   "source": [
    "stats.ttest_ind(hum_rights['HR_Score'][hum_rights['SANCTION'] == 'N'],\n",
    "                hum_rights['HR_Score'][hum_rights['SANCTION'] == '2'])"
   ]
  },
  {
   "cell_type": "code",
   "execution_count": null,
   "id": "c269407b",
   "metadata": {},
   "outputs": [],
   "source": [
    "stats.ttest_ind(hum_rights['HR_Score'][hum_rights['SANCTION'] == 'N'],\n",
    "                hum_rights['HR_Score'][hum_rights['SANCTION'] == '3'])"
   ]
  },
  {
   "cell_type": "code",
   "execution_count": null,
   "id": "b44cb5a8",
   "metadata": {},
   "outputs": [],
   "source": [
    "stats.ttest_ind(hum_rights['HR_Score'][hum_rights['SANCTION'] == 'N'],\n",
    "                hum_rights['HR_Score'][hum_rights['SANCTION'] == '4'])"
   ]
  },
  {
   "cell_type": "code",
   "execution_count": null,
   "id": "394f9e7e",
   "metadata": {},
   "outputs": [],
   "source": [
    "stats.ttest_ind(hum_rights['HR_Score'][hum_rights['SANCTION'] == 'N'],\n",
    "                hum_rights['HR_Score'][hum_rights['SANCTION'] == '5'])"
   ]
  },
  {
   "cell_type": "code",
   "execution_count": null,
   "id": "53a76769",
   "metadata": {},
   "outputs": [],
   "source": [
    "stats.ttest_ind(hum_rights['HR_Score'][hum_rights['SANCTION'] == 'Y'],\n",
    "                hum_rights['HR_Score'][hum_rights['SANCTION'] == '1'])"
   ]
  },
  {
   "cell_type": "code",
   "execution_count": null,
   "id": "6d6373ef",
   "metadata": {},
   "outputs": [],
   "source": [
    "stats.ttest_ind(hum_rights['HR_Score'][hum_rights['SANCTION'] == 'Y'],\n",
    "                hum_rights['HR_Score'][hum_rights['SANCTION'] == '2'])"
   ]
  },
  {
   "cell_type": "code",
   "execution_count": null,
   "id": "cfd07583",
   "metadata": {},
   "outputs": [],
   "source": [
    "stats.ttest_ind(hum_rights['HR_Score'][hum_rights['SANCTION'] == 'Y'],\n",
    "                hum_rights['HR_Score'][hum_rights['SANCTION'] == '3'])"
   ]
  },
  {
   "cell_type": "code",
   "execution_count": null,
   "id": "367e147f",
   "metadata": {},
   "outputs": [],
   "source": [
    "stats.ttest_ind(hum_rights['HR_Score'][hum_rights['SANCTION'] == 'Y'],\n",
    "                hum_rights['HR_Score'][hum_rights['SANCTION'] == '4'])"
   ]
  },
  {
   "cell_type": "code",
   "execution_count": null,
   "id": "d33221a1",
   "metadata": {},
   "outputs": [],
   "source": [
    "stats.ttest_ind(hum_rights['HR_Score'][hum_rights['SANCTION'] == 'Y'],\n",
    "                hum_rights['HR_Score'][hum_rights['SANCTION'] == '5'])"
   ]
  },
  {
   "cell_type": "code",
   "execution_count": null,
   "id": "f264d4da",
   "metadata": {},
   "outputs": [],
   "source": [
    "#do p val tests for QOLI and Corruption!!!!!!!!!!!!!!!!!!!!!!!!!!!!"
   ]
  },
  {
   "cell_type": "code",
   "execution_count": null,
   "id": "e05d99dc",
   "metadata": {},
   "outputs": [],
   "source": [
    "stats.ttest_ind(hum_rights['QOLI_Score'][hum_rights['Success']==\"1\"],\n",
    "                hum_rights['QOLI_Score'][hum_rights[\"Success\"]==\"0\"])"
   ]
  },
  {
   "cell_type": "code",
   "execution_count": null,
   "id": "c02284bf",
   "metadata": {},
   "outputs": [],
   "source": [
    "stats.ttest_ind(hum_rights['Corruption_Score'][hum_rights['Success']==\"1\"],\n",
    "                hum_rights['Corruption_Score'][hum_rights[\"Success\"]==\"0\"])"
   ]
  },
  {
   "cell_type": "code",
   "execution_count": null,
   "id": "c3dfaf1f",
   "metadata": {},
   "outputs": [],
   "source": [
    "#Determining which variable to drop for Predictive analysis. Will create a new db to work off of to not \n",
    "matrix=hum_rights.corr()\n",
    "hum_rights.corr()"
   ]
  },
  {
   "cell_type": "code",
   "execution_count": null,
   "id": "597d3b41",
   "metadata": {},
   "outputs": [],
   "source": [
    "sn.heatmap(matrix, annot=True)\n",
    "plt.show()"
   ]
  },
  {
   "cell_type": "code",
   "execution_count": null,
   "id": "63cae15f",
   "metadata": {},
   "outputs": [],
   "source": [
    "#remove any columns that have a correlation with \"Success\" of less than 0.10.\n",
    "df=hum_rights.drop(['YEAR', 'PHYSINT', 'DISAP','KILL','TORT','FORMOV','DOMMOV', 'WORKER','WECON','INJUD','PREVIOUS'], axis=1)"
   ]
  },
  {
   "cell_type": "code",
   "execution_count": null,
   "id": "117a5693",
   "metadata": {},
   "outputs": [],
   "source": [
    "matrix=df.corr()\n",
    "df.corr()"
   ]
  },
  {
   "cell_type": "code",
   "execution_count": null,
   "id": "19b3bd7c",
   "metadata": {
    "scrolled": true
   },
   "outputs": [],
   "source": [
    "sn.heatmap(matrix, annot=True)\n",
    "plt.show()"
   ]
  },
  {
   "cell_type": "code",
   "execution_count": null,
   "id": "01d257d9",
   "metadata": {},
   "outputs": [],
   "source": [
    "#A new database was created to demonstrate the sanctions success rate \n",
    "sanctions.head()"
   ]
  },
  {
   "cell_type": "code",
   "execution_count": null,
   "id": "9afe6fb7",
   "metadata": {},
   "outputs": [],
   "source": [
    "sanctions.info()"
   ]
  },
  {
   "cell_type": "code",
   "execution_count": null,
   "id": "53155581",
   "metadata": {},
   "outputs": [],
   "source": [
    "sanctions.describe()"
   ]
  },
  {
   "cell_type": "code",
   "execution_count": null,
   "id": "52a996c4",
   "metadata": {},
   "outputs": [],
   "source": [
    "sanctions.drop(\"Sanctioning_State\", inplace=True, axis=1)\n",
    "sanctions.drop(\"Year_Start\", inplace=True, axis=1)\n",
    "sanctions.drop(\"Year_End\", inplace=True, axis=1)\n",
    "sanctions_clean=sanctions.dropna(how=\"any\", subset=[\"Success\"])"
   ]
  },
  {
   "cell_type": "code",
   "execution_count": null,
   "id": "e34834f2",
   "metadata": {},
   "outputs": [],
   "source": [
    "matrix=sanctions.corr()\n",
    "sanctions.corr()"
   ]
  },
  {
   "cell_type": "code",
   "execution_count": null,
   "id": "5fee23a1",
   "metadata": {},
   "outputs": [],
   "source": [
    "sn.heatmap(matrix, annot=True)\n",
    "plt.show()"
   ]
  },
  {
   "cell_type": "code",
   "execution_count": null,
   "id": "4bb7b029",
   "metadata": {},
   "outputs": [],
   "source": [
    "#For NaN in any Year columns, we will use the average.\n",
    "sanctions[\"Year1\"]=sanctions[\"Year1\"].fillna(sanctions[\"Average\"])\n",
    "sanctions[\"Year2\"]=sanctions[\"Year2\"].fillna(sanctions[\"Average\"])\n",
    "sanctions[\"Year3\"]=sanctions[\"Year3\"].fillna(sanctions[\"Average\"])\n",
    "sanctions[\"Year4\"]=sanctions[\"Year4\"].fillna(sanctions[\"Average\"])\n",
    "sanctions[\"Year5\"]=sanctions[\"Year5\"].fillna(sanctions[\"Average\"])"
   ]
  },
  {
   "cell_type": "code",
   "execution_count": null,
   "id": "fef8fe2f",
   "metadata": {},
   "outputs": [],
   "source": [
    "fig = plt.figure()\n",
    "ax = fig.add_axes([0,0,1,1])\n",
    "total_score=sanctions[\"Average\"]\n",
    "country=sanctions[\"Target\"]\n",
    "\n",
    "ax.bar(country,total_score)\n",
    "plt.show()"
   ]
  },
  {
   "cell_type": "code",
   "execution_count": null,
   "id": "4ebfe9e1",
   "metadata": {},
   "outputs": [],
   "source": [
    "#For NaN values immediately before the sanctions and the average of the years prior to the sanctions\n",
    "# we will look at the average rate of change in the other columns and apply that.\n",
    "av_init_change=sanctions[\"Start_of_Sanct\"]-sanctions[\"Before_Sanct\"]\n",
    "#remove the NaN\n",
    "av_init_change=av_init_change.dropna()\n",
    "x=statistics.mean(av_init_change)\n",
    "print(x)\n",
    "\n",
    "#Seems to indicate the on average, the human rights score was higher immediately before a sanction"
   ]
  },
  {
   "cell_type": "code",
   "execution_count": null,
   "id": "a5b72bf3",
   "metadata": {},
   "outputs": [],
   "source": [
    "sanctions[\"Before_Sanct\"]=sanctions[\"Before_Sanct\"].fillna(sanctions[\"Start_of_Sanct\"]+x)\n",
    "sanctions[\"Before_Sanct_avg\"]=sanctions[\"Before_Sanct_avg\"].fillna(sanctions[\"Before_Sanct\"])"
   ]
  },
  {
   "cell_type": "code",
   "execution_count": null,
   "id": "6ff70c72",
   "metadata": {},
   "outputs": [],
   "source": []
  },
  {
   "cell_type": "code",
   "execution_count": null,
   "id": "2fa8bd4d",
   "metadata": {},
   "outputs": [],
   "source": [
    "#PREDICTIVE MODELLING"
   ]
  },
  {
   "cell_type": "code",
   "execution_count": null,
   "id": "9468b1f3",
   "metadata": {},
   "outputs": [],
   "source": [
    "hum_rights.head()"
   ]
  },
  {
   "cell_type": "code",
   "execution_count": null,
   "id": "59bbf9fc",
   "metadata": {},
   "outputs": [],
   "source": []
  },
  {
   "cell_type": "code",
   "execution_count": null,
   "id": "007758ac",
   "metadata": {},
   "outputs": [],
   "source": [
    "df=hum_rights\n",
    "df.dropna()\n",
    "df = df.reset_index()\n",
    "df = df[df['Success'].notna()]"
   ]
  },
  {
   "cell_type": "code",
   "execution_count": null,
   "id": "4a378032",
   "metadata": {},
   "outputs": [],
   "source": [
    "#Decision tree - hum_rights database\n",
    "cols=[\"PHYSINT\",\"DISAP\",\"KILL\",\"POLPRIS\",\"TORT\",\"NEW_EMPINX\",\"ASSN\",\"FORMOV\",\"DOMMOV\",\"SPEECH\",\"ELECSD\",\"NEW_RELFRE\",\"WORKER\",\"WECON\",\"WOPOL\",\"WOSOC\",\"INJUD\",\"HR_Score\",\"QOLI_Score\",\"Corruption_Score\"]\n",
    "df[cols].astype(np.float32)\n",
    "df[cols]= np.nan_to_num(df[cols].astype(np.float32))\n",
    "X=df[cols]\n",
    "Y=df[\"Success\"]\n",
    "X_train,X_test,y_train,y_test=train_test_split(X,Y,test_size=0.3,random_state=0)"
   ]
  },
  {
   "cell_type": "code",
   "execution_count": null,
   "id": "19834d77",
   "metadata": {},
   "outputs": [],
   "source": [
    "clf_entropy=DecisionTreeClassifier(criterion=\"entropy\", random_state=100, max_depth=15, \n",
    "                                   min_samples_leaf=5)\n",
    "clf_entropy.fit(X_train, y_train)"
   ]
  },
  {
   "cell_type": "code",
   "execution_count": null,
   "id": "0deef220",
   "metadata": {
    "scrolled": true
   },
   "outputs": [],
   "source": [
    "y_pred_en=clf_entropy.predict(X_test)\n",
    "y_pred_en"
   ]
  },
  {
   "cell_type": "code",
   "execution_count": null,
   "id": "efc22663",
   "metadata": {},
   "outputs": [],
   "source": [
    "print((\"Accuracy is\"), accuracy_score(y_test, y_pred_en)*100)"
   ]
  },
  {
   "cell_type": "code",
   "execution_count": null,
   "id": "c4251fde",
   "metadata": {},
   "outputs": [],
   "source": [
    "#Decision tree - hum_rights database - REMOVE UNCORRELATED COLUMNS\n",
    "cols=[\"POLPRIS\",\"NEW_EMPINX\",\"ASSN\",\"SPEECH\",\"ELECSD\",\"NEW_RELFRE\",\"WOPOL\",\"WOSOC\",\"HR_Score\",\"QOLI_Score\",\"Corruption_Score\"]\n",
    "df[cols].astype(np.float32)\n",
    "df[cols]= np.nan_to_num(df[cols].astype(np.float32))\n",
    "X=df[cols]\n",
    "Y=df[\"Success\"]\n",
    "X_train,X_test,y_train,y_test=train_test_split(X,Y,test_size=0.3,random_state=100)"
   ]
  },
  {
   "cell_type": "code",
   "execution_count": null,
   "id": "7cd4710c",
   "metadata": {},
   "outputs": [],
   "source": [
    "clf_entropy=DecisionTreeClassifier(criterion=\"entropy\", random_state=100, max_depth=10, \n",
    "                                   min_samples_leaf=5)\n",
    "clf_entropy.fit(X_train, y_train)"
   ]
  },
  {
   "cell_type": "code",
   "execution_count": null,
   "id": "ff120545",
   "metadata": {},
   "outputs": [],
   "source": [
    "y_pred_en=clf_entropy.predict(X_test)\n",
    "y_pred_en"
   ]
  },
  {
   "cell_type": "code",
   "execution_count": null,
   "id": "cfc36400",
   "metadata": {},
   "outputs": [],
   "source": [
    "print((\"Accuracy is\"), accuracy_score(y_test, y_pred_en)*100)"
   ]
  },
  {
   "cell_type": "code",
   "execution_count": null,
   "id": "ca7e2cd0",
   "metadata": {},
   "outputs": [],
   "source": [
    "sanctions.head()"
   ]
  },
  {
   "cell_type": "code",
   "execution_count": null,
   "id": "e18eafbf",
   "metadata": {},
   "outputs": [],
   "source": [
    "dfs=sanctions\n",
    "dfs.dropna()\n",
    "dfs = dfs.reset_index()\n",
    "dfs = dfs[dfs['Success'].notna()]"
   ]
  },
  {
   "cell_type": "code",
   "execution_count": null,
   "id": "742b30c7",
   "metadata": {},
   "outputs": [],
   "source": [
    "#Decision tree - hum_rights database\n",
    "cols=[\"Years\",\"Before_Sanct\",\"Before_Sanct_avg\",\"Start_of_Sanct\",\"End_of_Sanct\",\"During_avg\",\"Year1\",\"Year2\",\"Year3\",\"Year4\",\"Year5\",\"Average\"]\n",
    "dfs[cols].astype(np.float32)\n",
    "dfs[cols]= np.nan_to_num(dfs[cols].astype(np.float32))\n",
    "X=dfs[cols]\n",
    "Y=dfs[\"Success\"]\n",
    "X_train,X_test,y_train,y_test=train_test_split(X,Y,test_size=0.3,random_state=100)"
   ]
  },
  {
   "cell_type": "code",
   "execution_count": null,
   "id": "e67b7785",
   "metadata": {},
   "outputs": [],
   "source": [
    "clf_entropy=DecisionTreeClassifier(criterion=\"entropy\", random_state=100, max_depth=10, \n",
    "                                   min_samples_leaf=5)\n",
    "clf_entropy.fit(X_train, y_train)"
   ]
  },
  {
   "cell_type": "code",
   "execution_count": null,
   "id": "d64f3148",
   "metadata": {},
   "outputs": [],
   "source": [
    "y_pred_en=clf_entropy.predict(X_test)\n",
    "y_pred_en"
   ]
  },
  {
   "cell_type": "code",
   "execution_count": null,
   "id": "a63e23ac",
   "metadata": {},
   "outputs": [],
   "source": [
    "print((\"Accuracy is\"), accuracy_score(y_test, y_pred_en)*100)"
   ]
  },
  {
   "cell_type": "code",
   "execution_count": null,
   "id": "1cf47eb1",
   "metadata": {},
   "outputs": [],
   "source": []
  },
  {
   "cell_type": "code",
   "execution_count": null,
   "id": "20fca7fd",
   "metadata": {},
   "outputs": [],
   "source": [
    "#NAIVE BAYES on Human Rights Database"
   ]
  },
  {
   "cell_type": "code",
   "execution_count": null,
   "id": "fa10df75",
   "metadata": {},
   "outputs": [],
   "source": [
    "df3=hum_rights\n",
    "df3.dropna()\n",
    "df3 = df3.reset_index()\n",
    "df3 = df3[df3['Success'].notna()]"
   ]
  },
  {
   "cell_type": "code",
   "execution_count": null,
   "id": "66f3dbe6",
   "metadata": {},
   "outputs": [],
   "source": [
    "cols=[\"HR_Score\",\"QOLI_Score\",\"Corruption_Score\"]\n",
    "df3[cols].astype(np.float32)\n",
    "df3[cols]= np.nan_to_num(df3[cols].astype(np.float32))\n",
    "X=df3[cols]\n",
    "Y=df3[\"Success\"]\n",
    "X_train, X_test, y_train, y_test = train_test_split(X, Y, test_size = 0.30, random_state = 0)"
   ]
  },
  {
   "cell_type": "code",
   "execution_count": null,
   "id": "36eb0c7c",
   "metadata": {},
   "outputs": [],
   "source": [
    "sc = StandardScaler()\n",
    "X_train = sc.fit_transform(X_train)\n",
    "X_test = sc.transform(X_test)"
   ]
  },
  {
   "cell_type": "code",
   "execution_count": null,
   "id": "9cb4d864",
   "metadata": {},
   "outputs": [],
   "source": [
    "classifier = GaussianNB()\n",
    "classifier.fit(X_train, y_train)"
   ]
  },
  {
   "cell_type": "code",
   "execution_count": null,
   "id": "24306e08",
   "metadata": {},
   "outputs": [],
   "source": [
    "y_pred  =  classifier.predict(X_test)"
   ]
  },
  {
   "cell_type": "code",
   "execution_count": null,
   "id": "719143f0",
   "metadata": {},
   "outputs": [],
   "source": [
    " y_pred  "
   ]
  },
  {
   "cell_type": "code",
   "execution_count": null,
   "id": "be8f7845",
   "metadata": {},
   "outputs": [],
   "source": [
    "y_test"
   ]
  },
  {
   "cell_type": "code",
   "execution_count": null,
   "id": "38d0b756",
   "metadata": {},
   "outputs": [],
   "source": [
    "cm = confusion_matrix(y_test, y_pred)\n",
    "ac = accuracy_score(y_test,y_pred)\n",
    "cm\n"
   ]
  },
  {
   "cell_type": "code",
   "execution_count": null,
   "id": "11cd02f3",
   "metadata": {},
   "outputs": [],
   "source": [
    "ac"
   ]
  },
  {
   "cell_type": "code",
   "execution_count": null,
   "id": "c75137d1",
   "metadata": {},
   "outputs": [],
   "source": []
  },
  {
   "cell_type": "code",
   "execution_count": null,
   "id": "04cca787",
   "metadata": {},
   "outputs": [],
   "source": [
    "#Random Forest Classifier"
   ]
  },
  {
   "cell_type": "code",
   "execution_count": null,
   "id": "a575e97a",
   "metadata": {},
   "outputs": [],
   "source": [
    "df4=hum_rights\n",
    "df4.dropna()\n",
    "df4 = df4.reset_index()\n",
    "df4 = df4[df4['Success'].notna()]\n",
    "cols=[\"NEW_EMPINX\",\"WOSOC\",\"HR_Score\",\"QOLI_Score\",\"Corruption_Score\"]\n",
    "df4[cols].astype(np.float32)\n",
    "df4[cols]= np.nan_to_num(df4[cols].astype(np.float32))\n",
    "X=df4[cols]\n",
    "Y=df4[\"Success\"]\n",
    "X_train, X_test, y_train, y_test = train_test_split(X, Y, test_size = 0.30, random_state = 0)\n",
    "\n",
    "\n",
    "rf=RandomForestClassifier(n_estimators=50)\n",
    "rf.fit(X_train, y_train)\n",
    "suc=rf.predict(X_test)"
   ]
  },
  {
   "cell_type": "code",
   "execution_count": null,
   "id": "94364529",
   "metadata": {},
   "outputs": [],
   "source": [
    "print(suc)"
   ]
  },
  {
   "cell_type": "code",
   "execution_count": null,
   "id": "08ba6803",
   "metadata": {},
   "outputs": [],
   "source": [
    "print(y_test)"
   ]
  },
  {
   "cell_type": "code",
   "execution_count": null,
   "id": "a3f1a354",
   "metadata": {},
   "outputs": [],
   "source": [
    "accuracy_score(y_test,suc)"
   ]
  },
  {
   "cell_type": "code",
   "execution_count": null,
   "id": "b22ef9bf",
   "metadata": {},
   "outputs": [],
   "source": []
  },
  {
   "cell_type": "code",
   "execution_count": null,
   "id": "5e20a4dd",
   "metadata": {},
   "outputs": [],
   "source": [
    "df5=hum_rights\n",
    "df5.dropna()\n",
    "df5 = df5.reset_index()\n",
    "df5 = df5[df5['Success'].notna()]\n",
    "cols=[\"NEW_EMPINX\",\"WOSOC\",\"HR_Score\",\"QOLI_Score\",\"Corruption_Score\"]\n",
    "df5[cols].astype(np.float32)\n",
    "df5[cols]= np.nan_to_num(df5[cols].astype(np.float32))\n",
    "X=df5[cols]\n",
    "Y=df5[\"Success\"]\n",
    "X_train, X_test, y_train, y_test = train_test_split(X, Y, test_size = 0.30, random_state = 0)"
   ]
  },
  {
   "cell_type": "code",
   "execution_count": null,
   "id": "4a7e758c",
   "metadata": {},
   "outputs": [],
   "source": [
    "clf = svm.SVC(kernel='linear', C=1).fit(X_train, y_train)\n",
    "clf.score(X_test, y_test)"
   ]
  },
  {
   "cell_type": "code",
   "execution_count": null,
   "id": "91674337",
   "metadata": {},
   "outputs": [],
   "source": [
    "from sklearn.model_selection import cross_val_score\n",
    "clf = svm.SVC(kernel='linear', C=1, random_state=0)\n",
    "scores = cross_val_score(clf, X, Y, cv=20)\n",
    "scores"
   ]
  },
  {
   "cell_type": "code",
   "execution_count": null,
   "id": "3087ddeb",
   "metadata": {},
   "outputs": [],
   "source": [
    "print(\"%0.2f accuracy with a standard deviation of %0.2f\" % (scores.mean(), scores.std()))"
   ]
  },
  {
   "cell_type": "code",
   "execution_count": null,
   "id": "df8fca39",
   "metadata": {},
   "outputs": [],
   "source": []
  },
  {
   "cell_type": "code",
   "execution_count": null,
   "id": "412f85d0",
   "metadata": {},
   "outputs": [],
   "source": [
    "#K-fold cross validation"
   ]
  },
  {
   "cell_type": "code",
   "execution_count": null,
   "id": "9ef57c2e",
   "metadata": {},
   "outputs": [],
   "source": [
    "df6=hum_rights\n",
    "df6.dropna()\n",
    "df6 = df6.reset_index()\n",
    "df6 = df6[df6['Success'].notna()]\n",
    "#cols=[\"NEW_EMPINX\",\"WOSOC\",\"HR_Score\",\"QOLI_Score\",\"Corruption_Score\"]\n",
    "cols=[\"POLPRIS\",\"NEW_EMPINX\",\"ASSN\",\"SPEECH\",\"ELECSD\",\"NEW_RELFRE\",\"WOPOL\",\"WOSOC\",\"HR_Score\",\"QOLI_Score\",\"Corruption_Score\"]\n",
    "df6[cols].astype(np.float32)\n",
    "df6[cols]= np.nan_to_num(df6[cols].astype(np.float32))\n",
    "X=df6[cols]\n",
    "Y=df6[\"Success\"]\n",
    "#X_train, X_test, y_train, y_test = train_test_split(X, Y, test_size = 0.30, random_state = 0)"
   ]
  },
  {
   "cell_type": "code",
   "execution_count": null,
   "id": "aa99698f",
   "metadata": {},
   "outputs": [],
   "source": [
    "k = 3\n",
    "kf = model_selection.KFold(n_splits=k, random_state=None)\n",
    "model = LogisticRegression(solver= 'liblinear')\n",
    " \n",
    "result = cross_val_score(model , X, Y, cv = kf)\n",
    " \n",
    "print(\"Avg accuracy: {}\".format(result.mean()))"
   ]
  },
  {
   "cell_type": "code",
   "execution_count": null,
   "id": "456d31c2",
   "metadata": {},
   "outputs": [],
   "source": []
  },
  {
   "cell_type": "code",
   "execution_count": null,
   "id": "ce5c6283",
   "metadata": {},
   "outputs": [],
   "source": []
  },
  {
   "cell_type": "code",
   "execution_count": null,
   "id": "37317ed6",
   "metadata": {},
   "outputs": [],
   "source": []
  },
  {
   "cell_type": "code",
   "execution_count": null,
   "id": "34bc77bf",
   "metadata": {},
   "outputs": [],
   "source": []
  },
  {
   "cell_type": "code",
   "execution_count": null,
   "id": "79b7c6d8",
   "metadata": {},
   "outputs": [],
   "source": []
  },
  {
   "cell_type": "code",
   "execution_count": null,
   "id": "78cd2f95",
   "metadata": {},
   "outputs": [],
   "source": []
  },
  {
   "cell_type": "code",
   "execution_count": null,
   "id": "014b2f9d",
   "metadata": {},
   "outputs": [],
   "source": []
  },
  {
   "cell_type": "code",
   "execution_count": null,
   "id": "41669257",
   "metadata": {},
   "outputs": [],
   "source": []
  },
  {
   "cell_type": "code",
   "execution_count": null,
   "id": "23c13eeb",
   "metadata": {},
   "outputs": [],
   "source": []
  },
  {
   "cell_type": "code",
   "execution_count": null,
   "id": "c94ab6bf",
   "metadata": {},
   "outputs": [],
   "source": []
  },
  {
   "cell_type": "code",
   "execution_count": null,
   "id": "4fe96e09",
   "metadata": {},
   "outputs": [],
   "source": []
  },
  {
   "cell_type": "code",
   "execution_count": null,
   "id": "716ca37c",
   "metadata": {},
   "outputs": [],
   "source": []
  },
  {
   "cell_type": "code",
   "execution_count": null,
   "id": "b59c9704",
   "metadata": {},
   "outputs": [],
   "source": []
  },
  {
   "cell_type": "code",
   "execution_count": null,
   "id": "b52cdac4",
   "metadata": {},
   "outputs": [],
   "source": []
  },
  {
   "cell_type": "code",
   "execution_count": null,
   "id": "c95ad767",
   "metadata": {},
   "outputs": [],
   "source": []
  },
  {
   "cell_type": "code",
   "execution_count": null,
   "id": "c3ae89a5",
   "metadata": {},
   "outputs": [],
   "source": []
  },
  {
   "cell_type": "code",
   "execution_count": null,
   "id": "24f2fb14",
   "metadata": {},
   "outputs": [],
   "source": []
  },
  {
   "cell_type": "code",
   "execution_count": null,
   "id": "dc596bc6",
   "metadata": {},
   "outputs": [],
   "source": []
  },
  {
   "cell_type": "code",
   "execution_count": null,
   "id": "be6d7bd9",
   "metadata": {},
   "outputs": [],
   "source": []
  },
  {
   "cell_type": "code",
   "execution_count": null,
   "id": "ab67746a",
   "metadata": {},
   "outputs": [],
   "source": []
  },
  {
   "cell_type": "code",
   "execution_count": null,
   "id": "559360dc",
   "metadata": {},
   "outputs": [],
   "source": []
  },
  {
   "cell_type": "code",
   "execution_count": null,
   "id": "26cd1cad",
   "metadata": {},
   "outputs": [],
   "source": []
  },
  {
   "cell_type": "code",
   "execution_count": null,
   "id": "4838fdce",
   "metadata": {},
   "outputs": [],
   "source": []
  },
  {
   "cell_type": "code",
   "execution_count": null,
   "id": "31a72694",
   "metadata": {},
   "outputs": [],
   "source": [
    "\n"
   ]
  },
  {
   "cell_type": "code",
   "execution_count": null,
   "id": "16835825",
   "metadata": {},
   "outputs": [],
   "source": []
  },
  {
   "cell_type": "code",
   "execution_count": null,
   "id": "fa1c4326",
   "metadata": {},
   "outputs": [],
   "source": []
  },
  {
   "cell_type": "code",
   "execution_count": null,
   "id": "5516ea62",
   "metadata": {},
   "outputs": [],
   "source": []
  },
  {
   "cell_type": "code",
   "execution_count": null,
   "id": "f33415b9",
   "metadata": {},
   "outputs": [],
   "source": []
  },
  {
   "cell_type": "code",
   "execution_count": null,
   "id": "8faa7217",
   "metadata": {},
   "outputs": [],
   "source": []
  },
  {
   "cell_type": "code",
   "execution_count": null,
   "id": "a45f0ac8",
   "metadata": {},
   "outputs": [],
   "source": []
  },
  {
   "cell_type": "code",
   "execution_count": null,
   "id": "eecb1fd3",
   "metadata": {},
   "outputs": [],
   "source": []
  },
  {
   "cell_type": "code",
   "execution_count": null,
   "id": "3a6f4d00",
   "metadata": {},
   "outputs": [],
   "source": []
  },
  {
   "cell_type": "code",
   "execution_count": null,
   "id": "b76d7e8b",
   "metadata": {},
   "outputs": [],
   "source": []
  },
  {
   "cell_type": "code",
   "execution_count": null,
   "id": "0e05afcc",
   "metadata": {},
   "outputs": [],
   "source": []
  },
  {
   "cell_type": "code",
   "execution_count": null,
   "id": "f47f9031",
   "metadata": {},
   "outputs": [],
   "source": []
  },
  {
   "cell_type": "code",
   "execution_count": null,
   "id": "50b2fe09",
   "metadata": {},
   "outputs": [],
   "source": []
  },
  {
   "cell_type": "code",
   "execution_count": null,
   "id": "b02864dd",
   "metadata": {},
   "outputs": [],
   "source": []
  },
  {
   "cell_type": "code",
   "execution_count": null,
   "id": "79bc74e1",
   "metadata": {},
   "outputs": [],
   "source": []
  },
  {
   "cell_type": "code",
   "execution_count": null,
   "id": "81e2d843",
   "metadata": {},
   "outputs": [],
   "source": [
    "\n",
    "        "
   ]
  },
  {
   "cell_type": "code",
   "execution_count": null,
   "id": "56630b5a",
   "metadata": {},
   "outputs": [],
   "source": []
  },
  {
   "cell_type": "code",
   "execution_count": null,
   "id": "438db29a",
   "metadata": {},
   "outputs": [],
   "source": [
    "\n",
    "    "
   ]
  },
  {
   "cell_type": "code",
   "execution_count": null,
   "id": "c3c0a990",
   "metadata": {},
   "outputs": [],
   "source": []
  },
  {
   "cell_type": "code",
   "execution_count": null,
   "id": "d7465ad3",
   "metadata": {},
   "outputs": [],
   "source": []
  },
  {
   "cell_type": "code",
   "execution_count": null,
   "id": "8ef4af02",
   "metadata": {},
   "outputs": [],
   "source": []
  },
  {
   "cell_type": "code",
   "execution_count": null,
   "id": "9d96313c",
   "metadata": {},
   "outputs": [],
   "source": []
  },
  {
   "cell_type": "code",
   "execution_count": null,
   "id": "a95ca866",
   "metadata": {},
   "outputs": [],
   "source": []
  },
  {
   "cell_type": "code",
   "execution_count": null,
   "id": "8e49960b",
   "metadata": {},
   "outputs": [],
   "source": []
  },
  {
   "cell_type": "code",
   "execution_count": null,
   "id": "6cd969d0",
   "metadata": {},
   "outputs": [],
   "source": []
  },
  {
   "cell_type": "code",
   "execution_count": null,
   "id": "4784a867",
   "metadata": {},
   "outputs": [],
   "source": []
  }
 ],
 "metadata": {
  "kernelspec": {
   "display_name": "Python 3",
   "language": "python",
   "name": "python3"
  },
  "language_info": {
   "codemirror_mode": {
    "name": "ipython",
    "version": 3
   },
   "file_extension": ".py",
   "mimetype": "text/x-python",
   "name": "python",
   "nbconvert_exporter": "python",
   "pygments_lexer": "ipython3",
   "version": "3.8.8"
  }
 },
 "nbformat": 4,
 "nbformat_minor": 5
}
